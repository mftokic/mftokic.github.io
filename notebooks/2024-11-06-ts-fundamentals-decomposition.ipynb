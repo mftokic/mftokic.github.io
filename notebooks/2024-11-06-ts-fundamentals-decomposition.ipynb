{
 "cells": [
  {
   "cell_type": "markdown",
   "metadata": {},
   "source": [
    "### Python Code "
   ]
  },
  {
   "cell_type": "code",
   "execution_count": null,
   "metadata": {},
   "outputs": [],
   "source": [
    "# import libraries\n",
    "import pandas as pd\n",
    "import matplotlib.pyplot as plt"
   ]
  },
  {
   "cell_type": "code",
   "execution_count": null,
   "metadata": {},
   "outputs": [],
   "source": [
    "# read data\n",
    "data_raw = pd.read_csv(\"../posts/2024-10-02-ts-fundamentals-whats-a-time-series/example_ts_data.csv\")\n",
    "\n",
    "data_raw = (\n",
    "    # select columns\n",
    "    data_raw[[\"Country\", \"Product\", \"Date\", \"Revenue\"]]\n",
    "    # change data types\n",
    "    .assign(\n",
    "        Date = pd.to_datetime(data_raw[\"Date\"]), \n",
    "        Revenue = pd.to_numeric(data_raw[\"Revenue\"])\n",
    "    )\n",
    ")\n",
    "\n",
    "# print the first few rows\n",
    "print(data_raw.head())\n"
   ]
  },
  {
   "cell_type": "code",
   "execution_count": null,
   "metadata": {},
   "outputs": [],
   "source": [
    "# filter on specific series\n",
    "us_cookie_raw = data_raw[(data_raw[\"Country\"] == \"United States\") & (data_raw[\"Product\"] == \"Cookies\")]\n",
    "\n",
    "us_cookie_raw.set_index(\"Date\", inplace=True)\n",
    "\n",
    "print(us_cookie_raw.head())"
   ]
  },
  {
   "cell_type": "code",
   "execution_count": null,
   "metadata": {},
   "outputs": [],
   "source": [
    "# plot the data\n",
    "plt.figure(figsize=(10,6))\n",
    "plt.plot(us_cookie_raw.index, us_cookie_raw[\"Revenue\"], label = \"Cookies Revenue\", color = \"blue\")\n",
    "plt.title(\"US Cookie Revenue\")\n",
    "plt.xlabel(\"Date\")\n",
    "plt.ylabel(\"Revenue\")\n",
    "plt.grid(True)"
   ]
  },
  {
   "cell_type": "code",
   "execution_count": null,
   "metadata": {},
   "outputs": [],
   "source": [
    "# calculate the 2x12 month moving average\n",
    "us_cookie_ma = us_cookie_raw.copy()\n",
    "\n",
    "us_cookie_ma[\"2x12_MA\"] = us_cookie_ma[\"Revenue\"].rolling(window = 12, center = True).mean().rolling(window=2, center = True).mean()\n",
    "\n",
    "print(us_cookie_ma.head())"
   ]
  },
  {
   "cell_type": "code",
   "execution_count": null,
   "metadata": {},
   "outputs": [],
   "source": [
    "# plot the moving average\n",
    "plt.figure(figsize=(10,6))\n",
    "plt.plot(us_cookie_ma.index, us_cookie_ma[\"Revenue\"], label = \"Original Revenue\", color = \"blue\")\n",
    "plt.plot(us_cookie_ma.index, us_cookie_ma[\"2x12_MA\"], label = \"2x12 Moving Average\", color = \"red\")\n",
    "\n",
    "plt.title(\"United States - Cookie Revenue Trend\")\n",
    "plt.xlabel(\"Date\")\n",
    "plt.ylabel(\"Revenue\")\n",
    "plt.grid(True)\n",
    "plt.legend()\n",
    "\n",
    "ax = plt.gca()\n",
    "ax.spines[\"top\"].set_visible(False)\n",
    "ax.spines[\"right\"].set_visible(False)\n",
    "\n",
    "# save the plot\n",
    "# plt.savefig(\"chart3\", dpi = 300, bbox_inches = \"tight\")"
   ]
  },
  {
   "cell_type": "code",
   "execution_count": null,
   "metadata": {},
   "outputs": [],
   "source": [
    "# detrend the data\n",
    "us_cookie_detrend = us_cookie_ma.copy()\n",
    "\n",
    "us_cookie_detrend[\"Detrended\"] = us_cookie_detrend[\"Revenue\"] - us_cookie_detrend[\"2x12_MA\"]\n",
    "\n",
    "print(us_cookie_detrend.head(20))"
   ]
  },
  {
   "cell_type": "code",
   "execution_count": null,
   "metadata": {},
   "outputs": [],
   "source": [
    "# plot the detrended data\n",
    "plt.figsize=(10,6)\n",
    "plt.plot(us_cookie_detrend.index, us_cookie_detrend[\"Detrended\"], label = \"Detrended Revenue\", color = \"purple\")\n",
    "plt.title(\"United States - Cookie Revenue Detrended\")\n",
    "plt.xlabel(\"Date\")\n",
    "plt.ylabel(\"Revenue\")\n",
    "plt.grid(True)\n",
    "plt.legend()\n",
    "\n",
    "ax = plt.gca()\n",
    "ax.spines[\"top\"].set_visible(False)\n",
    "ax.spines[\"right\"].set_visible(False)\n",
    "\n",
    "# make date easier to read\n",
    "plt.gcf().autofmt_xdate()\n",
    "\n",
    "# save \n",
    "plt.savefig(\"chart4\", dpi = 300, bbox_inches = \"tight\")"
   ]
  },
  {
   "cell_type": "code",
   "execution_count": null,
   "metadata": {},
   "outputs": [],
   "source": [
    "# calculate the seasonal component\n",
    "us_cookie_seasonal = us_cookie_detrend.copy()\n",
    "us_cookie_seasonal[\"Seasonal\"] = us_cookie_seasonal[\"Detrended\"].groupby(us_cookie_seasonal.index.month).transform(\"mean\")\n",
    "\n",
    "# divide by mean across all months to have it sum to zero\n",
    "us_cookie_seasonal[\"Seasonal\"] = us_cookie_seasonal[\"Seasonal\"] / us_cookie_seasonal[\"Seasonal\"].mean()"
   ]
  },
  {
   "cell_type": "code",
   "execution_count": null,
   "metadata": {},
   "outputs": [],
   "source": [
    "# plot the seasonal component\n",
    "plt.figure(figsize=(10,6))\n",
    "plt.plot(us_cookie_seasonal.index, us_cookie_seasonal[\"Seasonal\"], label = \"Seasonal Component\", color = \"green\")\n",
    "plt.title(\"United States - Cookie Revenue Seasonality\")\n",
    "plt.xlabel(\"Date\")\n",
    "plt.ylabel(\"Revenue\")\n",
    "plt.grid(True)\n",
    "plt.legend()\n",
    "\n",
    "ax = plt.gca()\n",
    "ax.spines[\"top\"].set_visible(False)\n",
    "ax.spines[\"right\"].set_visible(False)\n",
    "\n",
    "# save\n",
    "# plt.savefig(\"chart5\", dpi = 300, bbox_inches = \"tight\")"
   ]
  },
  {
   "cell_type": "code",
   "execution_count": null,
   "metadata": {},
   "outputs": [],
   "source": [
    "# calculate the residual component\n",
    "us_cookie_residual = us_cookie_seasonal.copy()\n",
    "us_cookie_residual[\"Residual\"] = us_cookie_residual[\"Detrended\"] - us_cookie_residual[\"Seasonal\"]\n",
    "\n",
    "# plot the residual component\n",
    "plt.figure(figsize=(10,6))\n",
    "plt.plot(us_cookie_residual.index, us_cookie_residual[\"Residual\"], label = \"Residual Component\", color = \"orange\")\n",
    "plt.title(\"United States - Cookie Revenue Residual\")\n",
    "plt.xlabel(\"Date\")\n",
    "plt.ylabel(\"Revenue\")\n",
    "plt.grid(True)\n",
    "plt.legend()\n",
    "\n",
    "ax = plt.gca()\n",
    "ax.spines[\"top\"].set_visible(False)\n",
    "ax.spines[\"right\"].set_visible(False)\n",
    "\n",
    "# save\n",
    "# plt.savefig(\"chart6\", dpi = 300, bbox_inches = \"tight\")"
   ]
  },
  {
   "cell_type": "code",
   "execution_count": null,
   "metadata": {},
   "outputs": [],
   "source": [
    "# STL decomposition\n",
    "from statsmodels.tsa.seasonal import STL\n",
    "\n",
    "stl = STL(us_cookie_raw[\"Revenue\"], seasonal = 13, period = 12)\n",
    "res = stl.fit()\n",
    "\n",
    "# plot the decomposition in a stacked chart\n",
    "fig, (ax1, ax2, ax3, ax4) = plt.subplots(4, 1, figsize = (10, 8))\n",
    "\n",
    "# original data\n",
    "ax1.plot(res.observed, label = \"Original\", color = \"blue\")\n",
    "ax1.set_title(\"Original Data\")\n",
    "ax1.set_ylabel(\"Revenue\")\n",
    "ax1.grid(True)\n",
    "ax1.legend()\n",
    "\n",
    "# trend\n",
    "ax2.plot(res.trend, label = \"Trend\", color = \"red\")\n",
    "ax2.set_title(\"Trend\")\n",
    "ax2.set_ylabel(\"Revenue\")\n",
    "ax2.grid(True)\n",
    "ax2.legend()\n",
    "\n",
    "# seasonal\n",
    "ax3.plot(res.seasonal, label = \"Seasonal\", color = \"green\")\n",
    "ax3.set_title(\"Seasonal\")\n",
    "ax3.set_ylabel(\"Revenue\")\n",
    "ax3.grid(True)\n",
    "ax3.legend()\n",
    "\n",
    "# residual\n",
    "ax4.plot(res.resid, label = \"Residual\", color = \"orange\")\n",
    "ax4.set_title(\"Residual\")\n",
    "ax4.set_xlabel(\"Date\")\n",
    "ax4.set_ylabel(\"Revenue\")\n",
    "ax4.grid(True)\n",
    "ax4.legend()\n",
    "\n",
    "# Formatting and final touches\n",
    "plt.xlabel(\"Date\")\n",
    "plt.tight_layout()\n",
    "\n",
    "# save\n",
    "# plt.savefig(\"chart7\", dpi = 300, bbox_inches = \"tight\")"
   ]
  },
  {
   "cell_type": "code",
   "execution_count": null,
   "metadata": {},
   "outputs": [],
   "source": []
  }
 ],
 "metadata": {
  "kernelspec": {
   "display_name": ".venv",
   "language": "python",
   "name": "python3"
  },
  "language_info": {
   "codemirror_mode": {
    "name": "ipython",
    "version": 3
   },
   "file_extension": ".py",
   "mimetype": "text/x-python",
   "name": "python",
   "nbconvert_exporter": "python",
   "pygments_lexer": "ipython3",
   "version": "3.12.7"
  }
 },
 "nbformat": 4,
 "nbformat_minor": 2
}
