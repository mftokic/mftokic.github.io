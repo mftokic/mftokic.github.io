{
 "cells": [
  {
   "cell_type": "markdown",
   "metadata": {},
   "source": [
    "### Python Code"
   ]
  },
  {
   "cell_type": "code",
   "execution_count": null,
   "metadata": {},
   "outputs": [],
   "source": [
    "# import libraries\n",
    "import pandas as pd\n",
    "from statsforecast import StatsForecast\n",
    "from statsforecast.models import AutoARIMA\n",
    "import matplotlib.pyplot as plt"
   ]
  },
  {
   "cell_type": "code",
   "execution_count": null,
   "metadata": {},
   "outputs": [],
   "source": [
    "# read data\n",
    "data_raw = pd.read_csv(\"../posts/2024-10-02-ts-fundamentals-whats-a-time-series/example_ts_data.csv\")\n",
    "\n",
    "data_raw = (\n",
    "    # select columns\n",
    "    data_raw[[\"Country\", \"Product\", \"Date\", \"Revenue\"]]\n",
    "    # change data types\n",
    "    .assign(\n",
    "        Date = pd.to_datetime(data_raw[\"Date\"]), \n",
    "        Revenue = pd.to_numeric(data_raw[\"Revenue\"])\n",
    "    )\n",
    ")\n",
    "\n",
    "# print the first few rows\n",
    "print(data_raw.head())"
   ]
  },
  {
   "cell_type": "code",
   "execution_count": null,
   "metadata": {},
   "outputs": [],
   "source": [
    "# filter on specific series\n",
    "us_ic_raw = data_raw[(data_raw[\"Country\"] == \"United States\") & (data_raw[\"Product\"] == \"Ice Cream\")]\n",
    "\n",
    "# us_ic_raw.set_index(\"Date\", inplace=False)\n",
    "\n",
    "# create unique id\n",
    "us_ic_raw[\"unique_id\"] = us_ic_raw[\"Country\"] + \"_\" + us_ic_raw[\"Product\"]\n",
    "\n",
    "# convert date to datetime\n",
    "us_ic_raw[\"Date\"] = pd.to_datetime(us_ic_raw[\"Date\"])\n",
    "\n",
    "print(us_ic_raw.head())\n",
    "\n",
    "# plot the data\n",
    "plt.figure(figsize=(10, 6))\n",
    "plt.plot(us_ic_raw.index, us_ic_raw[\"Revenue\"], label=\"Ice Cream Revenue\")\n",
    "plt.xlabel(\"Date\")\n",
    "plt.ylabel(\"Revenue\")\n",
    "plt.title(\"Ice Cream Revenue in United States\")\n",
    "plt.legend()"
   ]
  },
  {
   "cell_type": "code",
   "execution_count": null,
   "metadata": {},
   "outputs": [],
   "source": [
    "# get final data for forecasting\n",
    "us_ic_clean = us_ic_raw[[\"unique_id\", \"Date\", \"Revenue\"]].copy()\n",
    "\n",
    "# set up models to train\n",
    "sf = StatsForecast(\n",
    "    models=[AutoARIMA(season_length=12)],\n",
    "    freq='ME',\n",
    ")\n",
    "\n",
    "# fit the model and forecast for 12 months ahead\n",
    "Y_hat_df = sf.forecast(df = us_ic_clean, \n",
    "                       time_col = \"Date\", \n",
    "                       target_col = \"Revenue\", \n",
    "                       id_col = \"unique_id\", \n",
    "                       h=12, \n",
    "                       level=[95], \n",
    "                       fitted=True)\n",
    "\n",
    "print(Y_hat_df.head())"
   ]
  },
  {
   "cell_type": "code",
   "execution_count": null,
   "metadata": {},
   "outputs": [],
   "source": [
    "values=sf.forecast_fitted_values()\n",
    "values"
   ]
  },
  {
   "cell_type": "code",
   "execution_count": null,
   "metadata": {},
   "outputs": [],
   "source": []
  },
  {
   "cell_type": "code",
   "execution_count": null,
   "metadata": {},
   "outputs": [],
   "source": []
  }
 ],
 "metadata": {
  "kernelspec": {
   "display_name": ".venv",
   "language": "python",
   "name": "python3"
  },
  "language_info": {
   "codemirror_mode": {
    "name": "ipython",
    "version": 3
   },
   "file_extension": ".py",
   "mimetype": "text/x-python",
   "name": "python",
   "nbconvert_exporter": "python",
   "pygments_lexer": "ipython3",
   "version": "3.10.0"
  }
 },
 "nbformat": 4,
 "nbformat_minor": 2
}
