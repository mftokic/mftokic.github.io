{
 "cells": [
  {
   "cell_type": "markdown",
   "metadata": {},
   "source": [
    "### Python Code"
   ]
  },
  {
   "cell_type": "code",
   "execution_count": null,
   "metadata": {},
   "outputs": [],
   "source": [
    "# import libraries\n",
    "import pandas as pd\n",
    "import numpy as np\n",
    "import matplotlib.pyplot as plt"
   ]
  },
  {
   "cell_type": "code",
   "execution_count": null,
   "metadata": {},
   "outputs": [],
   "source": [
    "# read data\n",
    "data_raw = pd.read_csv(\"../posts/2024-10-02-ts-fundamentals-whats-a-time-series/example_ts_data.csv\")\n",
    "\n",
    "data_raw = (\n",
    "    # select columns\n",
    "    data_raw[[\"Country\", \"Product\", \"Date\", \"Revenue\"]]\n",
    "    # change data types\n",
    "    .assign(\n",
    "        Date = pd.to_datetime(data_raw[\"Date\"]), \n",
    "        Revenue = pd.to_numeric(data_raw[\"Revenue\"])\n",
    "    )\n",
    ")\n",
    "\n",
    "# print the first few rows\n",
    "print(data_raw.head())"
   ]
  },
  {
   "cell_type": "code",
   "execution_count": null,
   "metadata": {},
   "outputs": [],
   "source": [
    "# filter on specific series\n",
    "us_ic_raw = data_raw[(data_raw[\"Country\"] == \"United States\") & (data_raw[\"Product\"] == \"Ice Cream\")]\n",
    "\n",
    "us_ic_raw.set_index(\"Date\", inplace=True)\n",
    "\n",
    "print(us_ic_raw.head())\n",
    "\n",
    "# plot the data\n",
    "plt.figure(figsize=(10, 6))\n",
    "plt.plot(us_ic_raw.index, us_ic_raw[\"Revenue\"], label=\"Ice Cream Revenue\")\n",
    "plt.xlabel(\"Date\")\n",
    "plt.ylabel(\"Revenue\")\n",
    "plt.title(\"Ice Cream Revenue in United States\")\n",
    "plt.legend()\n",
    "\n",
    "# save the plot\n",
    "# plt.savefig(\"chart1\", dpi = 300, bbox_inches = \"tight\")"
   ]
  },
  {
   "cell_type": "code",
   "execution_count": null,
   "metadata": {},
   "outputs": [],
   "source": [
    "# copy the data \n",
    "us_ic_diff = us_ic_raw.copy()\n",
    "\n",
    "# difference the revenue data \n",
    "us_ic_diff[\"Revenue\"] = us_ic_diff[\"Revenue\"].diff()\n",
    "\n",
    "# plot the differenced data\n",
    "plt.figure(figsize=(10, 6))\n",
    "plt.plot(us_ic_diff.index, us_ic_diff[\"Revenue\"], label=\"First Order Difference\", color='orange')\n",
    "plt.xlabel(\"Date\")\n",
    "plt.ylabel(\"Differenced Revenue\")\n",
    "plt.title(\"Differenced Ice Cream Revenue in United States\")\n",
    "plt.legend()\n",
    "\n",
    "# save the plot\n",
    "# plt.savefig(\"chart2\", dpi = 300, bbox_inches = \"tight\")"
   ]
  },
  {
   "cell_type": "code",
   "execution_count": null,
   "metadata": {},
   "outputs": [],
   "source": [
    "# copy the data again for second order differencing\n",
    "us_ic_diff2 = us_ic_raw.copy()\n",
    "\n",
    "# take a second order difference \n",
    "us_ic_diff2 = us_ic_diff2[\"Revenue\"].diff().diff()\n",
    "\n",
    "# plot the differenced data\n",
    "plt.figure(figsize=(10, 6))\n",
    "plt.plot(us_ic_diff2.index, us_ic_diff2, label=\"Second Order Difference\", color='orange')\n",
    "plt.xlabel(\"Date\")\n",
    "plt.ylabel(\"Second Order Difference\")\n",
    "plt.title(\"Second Order Differenced Ice Cream Revenue in United States\")\n",
    "plt.legend()\n",
    "\n",
    "# save the plot\n",
    "# plt.savefig(\"chart3\", dpi = 300, bbox_inches = \"tight\")"
   ]
  },
  {
   "cell_type": "code",
   "execution_count": null,
   "metadata": {},
   "outputs": [],
   "source": [
    "# copy the data again for seasonal differencing\n",
    "us_ic_seasonal_diff = us_ic_raw.copy()\n",
    "\n",
    "# take a seasonal difference (12 months for monthly data)\n",
    "us_ic_seasonal_diff[\"Revenue\"] = us_ic_seasonal_diff[\"Revenue\"].diff(12)\n",
    "\n",
    "# plot the seasonal differenced data\n",
    "plt.figure(figsize=(10, 6))\n",
    "plt.plot(us_ic_seasonal_diff.index, us_ic_seasonal_diff[\"Revenue\"], label=\"Seasonal Difference\", color='orange')\n",
    "plt.xlabel(\"Date\")\n",
    "plt.ylabel(\"Seasonal Differenced Revenue\")\n",
    "plt.title(\"Seasonally Differenced Ice Cream Revenue in United States\")\n",
    "plt.legend()\n",
    "\n",
    "# save the plot\n",
    "# plt.savefig(\"chart4\", dpi = 300, bbox_inches = \"tight\")"
   ]
  },
  {
   "cell_type": "code",
   "execution_count": null,
   "metadata": {},
   "outputs": [],
   "source": [
    "# apply a seasonal difference of 12 months to the original data and then a first order difference\n",
    "us_ic_seasonal_diff_first = us_ic_raw.copy()\n",
    "us_ic_seasonal_diff_first[\"Revenue\"] = us_ic_seasonal_diff_first[\"Revenue\"].diff(12).diff()\n",
    "\n",
    "# plot the seasonal differenced and first order differenced data\n",
    "plt.figure(figsize=(10, 6))\n",
    "plt.plot(us_ic_seasonal_diff_first.index, us_ic_seasonal_diff_first[\"Revenue\"], label=\"Seasonal + First Order Difference\", color='orange')\n",
    "plt.xlabel(\"Date\")\n",
    "plt.ylabel(\"Seasonal + First Order Differenced Revenue\")\n",
    "plt.title(\"Seasonally and First Order Differenced Ice Cream Revenue in United States\")\n",
    "plt.legend()\n",
    "\n",
    "# save the plot\n",
    "# plt.savefig(\"chart5\", dpi = 300, bbox_inches = \"tight\")"
   ]
  },
  {
   "cell_type": "code",
   "execution_count": null,
   "metadata": {},
   "outputs": [],
   "source": []
  }
 ],
 "metadata": {
  "kernelspec": {
   "display_name": ".venv",
   "language": "python",
   "name": "python3"
  },
  "language_info": {
   "codemirror_mode": {
    "name": "ipython",
    "version": 3
   },
   "file_extension": ".py",
   "mimetype": "text/x-python",
   "name": "python",
   "nbconvert_exporter": "python",
   "pygments_lexer": "ipython3",
   "version": "3.10.0"
  }
 },
 "nbformat": 4,
 "nbformat_minor": 2
}
