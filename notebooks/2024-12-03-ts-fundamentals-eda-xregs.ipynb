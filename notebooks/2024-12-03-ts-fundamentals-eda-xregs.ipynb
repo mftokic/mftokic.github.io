{
 "cells": [
  {
   "cell_type": "markdown",
   "metadata": {},
   "source": [
    "### Python Code"
   ]
  },
  {
   "cell_type": "code",
   "execution_count": null,
   "metadata": {},
   "outputs": [],
   "source": [
    "# import libraries\n",
    "import pandas as pd\n",
    "import numpy as np\n",
    "import matplotlib.pyplot as plt\n",
    "import random"
   ]
  },
  {
   "cell_type": "code",
   "execution_count": null,
   "metadata": {},
   "outputs": [],
   "source": [
    "# read data\n",
    "data_raw = pd.read_csv(\"../posts/2024-10-02-ts-fundamentals-whats-a-time-series/example_ts_data.csv\")\n",
    "\n",
    "data_raw = (\n",
    "    # select columns\n",
    "    data_raw[[\"Country\", \"Product\", \"Date\", \"Revenue\"]]\n",
    "    # change data types\n",
    "    .assign(\n",
    "        Date = pd.to_datetime(data_raw[\"Date\"]), \n",
    "        Revenue = pd.to_numeric(data_raw[\"Revenue\"])\n",
    "    )\n",
    ")\n",
    "\n",
    "# print the first few rows\n",
    "print(data_raw.head())"
   ]
  },
  {
   "cell_type": "code",
   "execution_count": null,
   "metadata": {},
   "outputs": [],
   "source": [
    "# filter on specific series\n",
    "us_ck_raw = data_raw[(data_raw[\"Country\"] == \"United States\") & (data_raw[\"Product\"] == \"Cookies\")]\n",
    "\n",
    "us_ck_raw.set_index(\"Date\", inplace=True)\n",
    "\n",
    "print(us_ck_raw.head())\n",
    "\n",
    "# plot the data\n",
    "plt.figure(figsize=(10, 6))\n",
    "plt.plot(us_ck_raw.index, us_ck_raw[\"Revenue\"], label=\"Cookies Revenue\")\n",
    "plt.xlabel(\"Date\")\n",
    "plt.ylabel(\"Revenue\")\n",
    "plt.title(\"Cookies Revenue in the United States\")\n",
    "plt.legend()"
   ]
  },
  {
   "cell_type": "code",
   "execution_count": null,
   "metadata": {},
   "outputs": [],
   "source": [
    "# Set a random seed for reproducibility\n",
    "random.seed(15)\n",
    "\n",
    "us_ck_corr = us_ck_raw.copy()\n",
    "\n",
    "# Generate a new variable with strong correlation\n",
    "correlation_target = 0.9\n",
    "n = us_ck_corr.shape[0]\n",
    "noise = np.random.randn(n)\n",
    "\n",
    "# Orthogonalize noise to the original variable to ensure independence\n",
    "noise = noise - np.dot(noise, us_ck_corr[\"Revenue\"]) / np.dot(us_ck_corr[\"Revenue\"], us_ck_corr[\"Revenue\"]) * us_ck_corr[\"Revenue\"]\n",
    "\n",
    "# Scale the orthogonalized noise to match the desired correlation\n",
    "noise = noise / np.linalg.norm(noise) * np.sqrt(1 - correlation_target**2) * np.linalg.norm(us_ck_corr[\"Revenue\"])\n",
    "\n",
    "# Create the new variable\n",
    "us_ck_corr[\"xreg1\"] = correlation_target * us_ck_corr[\"Revenue\"] + noise\n",
    "\n",
    "# Verify the correlation\n",
    "correlation = us_ck_corr[\"Revenue\"].corr(us_ck_corr[\"xreg1\"])\n",
    "print(f\"Correlation between Original and New_Var: {correlation:.4f}\")\n",
    "\n",
    "\n",
    "# create a variable that has a weak correlation to the revenue column, create random values between 1 and 100\n",
    "us_ck_corr[\"xreg2\"] = random.sample(range(1, 100), us_ck_corr.shape[0])\n",
    "\n",
    "# print the first few rows, formatting numbers to 2 decimal places\n",
    "print(us_ck_corr.head(10).round(2))\n",
    "\n",
    "# plot the data with the new variables as dotted lines\n",
    "plt.figure(figsize=(10, 6))\n",
    "plt.plot(us_ck_corr.index, us_ck_corr[\"Revenue\"], label=\"Cookies Revenue\")\n",
    "plt.plot(us_ck_corr.index, us_ck_corr[\"xreg1\"], label=\"xreg1\", linestyle = \"dotted\")\n",
    "plt.plot(us_ck_corr.index, us_ck_corr[\"xreg2\"], label=\"xreg2\", linestyle = \"dotted\")\n",
    "plt.xlabel(\"Date\")\n",
    "plt.ylabel(\"Revenue\")\n",
    "plt.title(\"Cookies Revenue in the United States\")\n",
    "plt.legend()\n",
    "\n",
    "# save the plot\n",
    "# plt.savefig(\"chart1\", dpi = 300, bbox_inches = \"tight\")"
   ]
  },
  {
   "cell_type": "code",
   "execution_count": null,
   "metadata": {},
   "outputs": [],
   "source": [
    "# calculate the correlation between the target variable and the new variables, dropping the date, country, and product columns\n",
    "correlation = us_ck_corr.drop(columns=[\"Country\", \"Product\"]).corr()\n",
    "\n",
    "# create a simple table to display the correlation values\n",
    "correlation_table = correlation.stack().reset_index()\n",
    "correlation_table.columns = [\"Variable 1\", \"Variable 2\", \"Correlation\"]\n",
    "correlation_table = correlation_table[correlation_table[\"Variable 1\"] == \"Revenue\"]\n",
    "correlation_table = correlation_table[correlation_table[\"Variable 2\"] != \"Revenue\"]\n",
    "\n",
    "# print the correlation table, rounding the values to 2 decimal places\n",
    "print(correlation_table.round(2))"
   ]
  },
  {
   "cell_type": "code",
   "execution_count": null,
   "metadata": {},
   "outputs": [],
   "source": [
    "# calculate lags of the xreg1 and xreg2 columns. Create 1, 2, 3, 6, 9, 12 lags\n",
    "us_ck_corr[\"xreg1_lag_1\"] = us_ck_corr[\"xreg1\"].shift(1)\n",
    "us_ck_corr[\"xreg1_lag_2\"] = us_ck_corr[\"xreg1\"].shift(2)\n",
    "us_ck_corr[\"xreg1_lag_3\"] = us_ck_corr[\"xreg1\"].shift(3)\n",
    "us_ck_corr[\"xreg1_lag_6\"] = us_ck_corr[\"xreg1\"].shift(6)\n",
    "us_ck_corr[\"xreg1_lag_9\"] = us_ck_corr[\"xreg1\"].shift(9)\n",
    "us_ck_corr[\"xreg1_lag_12\"] = us_ck_corr[\"xreg1\"].shift(12)\n",
    "\n",
    "us_ck_corr[\"xreg2_lag_1\"] = us_ck_corr[\"xreg2\"].shift(1)\n",
    "us_ck_corr[\"xreg2_lag_2\"] = us_ck_corr[\"xreg2\"].shift(2)\n",
    "us_ck_corr[\"xreg2_lag_3\"] = us_ck_corr[\"xreg2\"].shift(3)\n",
    "us_ck_corr[\"xreg2_lag_6\"] = us_ck_corr[\"xreg2\"].shift(6)\n",
    "us_ck_corr[\"xreg2_lag_9\"] = us_ck_corr[\"xreg2\"].shift(9)\n",
    "us_ck_corr[\"xreg2_lag_12\"] = us_ck_corr[\"xreg2\"].shift(12)\n",
    "\n",
    "# calculate the correlation between the target variable and the new variables, dropping the date, country, and product columns\n",
    "relation = us_ck_corr.drop(columns=[\"Country\", \"Product\"]).corr()\n",
    "\n",
    "# create a simple table to display the correlation values\n",
    "lag_table = relation.stack().reset_index()\n",
    "lag_table.columns = [\"Variable 1\", \"Variable 2\", \"Correlation\"]\n",
    "lag_table = lag_table[lag_table[\"Variable 1\"] == \"Revenue\"]\n",
    "lag_table = lag_table[lag_table[\"Variable 2\"] != \"Revenue\"]\n",
    "\n",
    "# print the correlation table, rounding the values to 2 decimal places\n",
    "print(lag_table.round(2))"
   ]
  },
  {
   "cell_type": "code",
   "execution_count": null,
   "metadata": {},
   "outputs": [],
   "source": []
  }
 ],
 "metadata": {
  "kernelspec": {
   "display_name": ".venv",
   "language": "python",
   "name": "python3"
  },
  "language_info": {
   "codemirror_mode": {
    "name": "ipython",
    "version": 3
   },
   "file_extension": ".py",
   "mimetype": "text/x-python",
   "name": "python",
   "nbconvert_exporter": "python",
   "pygments_lexer": "ipython3",
   "version": "3.12.7"
  }
 },
 "nbformat": 4,
 "nbformat_minor": 2
}
