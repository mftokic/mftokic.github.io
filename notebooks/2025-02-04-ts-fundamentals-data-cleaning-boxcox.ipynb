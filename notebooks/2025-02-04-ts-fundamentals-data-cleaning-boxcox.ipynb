{
 "cells": [
  {
   "cell_type": "markdown",
   "metadata": {},
   "source": [
    "### Python Code"
   ]
  },
  {
   "cell_type": "code",
   "execution_count": 15,
   "metadata": {},
   "outputs": [],
   "source": [
    "# import libraries\n",
    "import pandas as pd\n",
    "import numpy as np\n",
    "import matplotlib.pyplot as plt\n",
    "from scipy.stats import boxcox\n",
    "from scipy.special import inv_boxcox"
   ]
  },
  {
   "cell_type": "code",
   "execution_count": null,
   "metadata": {},
   "outputs": [],
   "source": [
    "# create a simple monthly time series with a linear trend and no noise\n",
    "np.random.seed(0)\n",
    "n = 100\n",
    "x = np.arange(n)\n",
    "y = 0.5 * x\n",
    "df = pd.DataFrame({'x': x, 'y': y})\n",
    "\n",
    "# plot the time series\n",
    "plt.figure(figsize=(10, 6))\n",
    "plt.plot(df['x'], df['y'])\n",
    "plt.xlabel('Time')\n",
    "plt.ylabel('Value')\n",
    "plt.title('Simple Linear Time Series')\n",
    "\n",
    "# save the plot\n",
    "plt.savefig(\"chart1\", dpi = 300, bbox_inches = \"tight\")"
   ]
  },
  {
   "cell_type": "code",
   "execution_count": null,
   "metadata": {},
   "outputs": [],
   "source": [
    "# read data\n",
    "data_raw = pd.read_csv(\"../posts/2024-10-02-ts-fundamentals-whats-a-time-series/example_ts_data.csv\")\n",
    "\n",
    "data_raw = (\n",
    "    # select columns\n",
    "    data_raw[[\"Country\", \"Product\", \"Date\", \"Revenue\"]]\n",
    "    # change data types\n",
    "    .assign(\n",
    "        Date = pd.to_datetime(data_raw[\"Date\"]), \n",
    "        Revenue = pd.to_numeric(data_raw[\"Revenue\"])\n",
    "    )\n",
    ")\n",
    "\n",
    "# print the first few rows\n",
    "print(data_raw.head())"
   ]
  },
  {
   "cell_type": "code",
   "execution_count": null,
   "metadata": {},
   "outputs": [],
   "source": [
    "# filter on specific series\n",
    "cd_ic_raw = data_raw[(data_raw[\"Country\"] == \"Canada\") & (data_raw[\"Product\"] == \"Ice Cream\")]\n",
    "\n",
    "cd_ic_raw.set_index(\"Date\", inplace=True)\n",
    "\n",
    "print(cd_ic_raw.head())\n",
    "\n",
    "# plot the data\n",
    "plt.figure(figsize=(10, 6))\n",
    "plt.plot(cd_ic_raw.index, cd_ic_raw[\"Revenue\"], label=\"Ice Cream Revenue\")\n",
    "plt.xlabel(\"Date\")\n",
    "plt.ylabel(\"Revenue\")\n",
    "plt.title(\"Ice Cream Revenue in Canada\")\n",
    "plt.legend()\n",
    "\n",
    "# save the plot\n",
    "plt.savefig(\"chart2\", dpi = 300, bbox_inches = \"tight\")"
   ]
  },
  {
   "cell_type": "code",
   "execution_count": null,
   "metadata": {},
   "outputs": [],
   "source": [
    "# copy data\n",
    "cd_ic_bc = cd_ic_raw.copy()\n",
    "\n",
    "# apply Box-Cox transformation with lambda = 0\n",
    "cd_ic_bc[\"Revenue\"]= boxcox(x = cd_ic_bc[\"Revenue\"], lmbda = 0.0)\n",
    "\n",
    "# plot the data\n",
    "plt.figure(figsize=(10, 6))\n",
    "plt.plot(cd_ic_bc.index, cd_ic_bc[\"Revenue\"], label=\"Ice Cream Revenue\")\n",
    "plt.xlabel(\"Date\")\n",
    "plt.ylabel(\"Transformed Revenue\")\n",
    "plt.title(\"Box-Cox Transformed Data (Lambda = 0)\")\n",
    "plt.legend()\n",
    "\n",
    "# save the plot\n",
    "plt.savefig(\"chart3\", dpi = 300, bbox_inches = \"tight\")"
   ]
  },
  {
   "cell_type": "code",
   "execution_count": null,
   "metadata": {},
   "outputs": [],
   "source": [
    "# copy data\n",
    "cd_ic_bc = cd_ic_raw.copy()\n",
    "\n",
    "# apply Box-Cox transformation with lambda = 0.5\n",
    "cd_ic_bc[\"Revenue\"]= boxcox(x = cd_ic_bc[\"Revenue\"], lmbda = 0.5)\n",
    "\n",
    "# plot the data\n",
    "plt.figure(figsize=(10, 6))\n",
    "plt.plot(cd_ic_bc.index, cd_ic_bc[\"Revenue\"], label=\"Ice Cream Revenue\")\n",
    "plt.xlabel(\"Date\")\n",
    "plt.ylabel(\"Transformed Revenue\")\n",
    "plt.title(\"Box-Cox Transformed Data (Lambda = 0.5)\")\n",
    "plt.legend()\n",
    "\n",
    "# save the plot\n",
    "plt.savefig(\"chart4\", dpi = 300, bbox_inches = \"tight\")"
   ]
  },
  {
   "cell_type": "code",
   "execution_count": null,
   "metadata": {},
   "outputs": [],
   "source": [
    "# copy data\n",
    "cd_ic_bc = cd_ic_raw.copy()\n",
    "\n",
    "# set random seed for reproducibility\n",
    "np.random.seed(100)\n",
    "\n",
    "# apply Box-Cox transformation with lambda = None\n",
    "cd_ic_bc[\"Revenue\"], lambda_ = boxcox(x = cd_ic_bc[\"Revenue\"])\n",
    "print(lambda_)\n",
    "\n",
    "# plot the data\n",
    "plt.figure(figsize=(10, 6))\n",
    "plt.plot(cd_ic_bc.index, cd_ic_bc[\"Revenue\"], label=\"Ice Cream Revenue\")\n",
    "plt.xlabel(\"Date\")\n",
    "plt.ylabel(\"Transformed Revenue\")\n",
    "plt.title(\"Box-Cox Transformed Data (Estimated Lambda = -0.0017)\")\n",
    "plt.legend()\n",
    "\n",
    "# save the plot\n",
    "plt.savefig(\"chart5\", dpi = 300, bbox_inches = \"tight\")"
   ]
  },
  {
   "cell_type": "code",
   "execution_count": null,
   "metadata": {},
   "outputs": [],
   "source": []
  }
 ],
 "metadata": {
  "kernelspec": {
   "display_name": ".venv",
   "language": "python",
   "name": "python3"
  },
  "language_info": {
   "codemirror_mode": {
    "name": "ipython",
    "version": 3
   },
   "file_extension": ".py",
   "mimetype": "text/x-python",
   "name": "python",
   "nbconvert_exporter": "python",
   "pygments_lexer": "ipython3",
   "version": "3.10.0"
  }
 },
 "nbformat": 4,
 "nbformat_minor": 2
}
