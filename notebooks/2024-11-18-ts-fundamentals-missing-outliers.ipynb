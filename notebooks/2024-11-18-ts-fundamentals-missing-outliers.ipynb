{
 "cells": [
  {
   "cell_type": "markdown",
   "metadata": {},
   "source": [
    "### Python Code"
   ]
  },
  {
   "cell_type": "code",
   "execution_count": null,
   "metadata": {},
   "outputs": [],
   "source": [
    "# import libraries\n",
    "import pandas as pd\n",
    "import matplotlib.pyplot as plt\n",
    "import numpy as np\n",
    "from statsmodels.tsa.seasonal import STL\n",
    "from statsmodels.tsa.deterministic import Fourier\n",
    "from scipy.interpolate import interp1d"
   ]
  },
  {
   "cell_type": "code",
   "execution_count": null,
   "metadata": {},
   "outputs": [],
   "source": [
    "# read data\n",
    "data_raw = pd.read_csv(\"../posts/2024-10-02-ts-fundamentals-whats-a-time-series/example_ts_data.csv\")\n",
    "\n",
    "data_raw = (\n",
    "    # select columns\n",
    "    data_raw[[\"Country\", \"Product\", \"Date\", \"Revenue\"]]\n",
    "    # change data types\n",
    "    .assign(\n",
    "        Date = pd.to_datetime(data_raw[\"Date\"]), \n",
    "        Revenue = pd.to_numeric(data_raw[\"Revenue\"])\n",
    "    )\n",
    ")\n",
    "\n",
    "# print the first few rows\n",
    "print(data_raw.head())"
   ]
  },
  {
   "cell_type": "code",
   "execution_count": null,
   "metadata": {},
   "outputs": [],
   "source": [
    "# filter on specific series\n",
    "us_ck_raw = data_raw[(data_raw[\"Country\"] == \"United States\") & (data_raw[\"Product\"] == \"Cookies\")]\n",
    "\n",
    "us_ck_raw.set_index(\"Date\", inplace=True)\n",
    "\n",
    "print(us_ck_raw.head())"
   ]
  },
  {
   "cell_type": "code",
   "execution_count": null,
   "metadata": {},
   "outputs": [],
   "source": [
    "# randomly replace some revenue values with NaN\n",
    "np.random.seed(123)\n",
    "\n",
    "us_ck_raw.loc[us_ck_raw.sample(frac=0.03).index, \"Revenue\"] = np.nan\n",
    "\n",
    "print(us_ck_raw.head())"
   ]
  },
  {
   "cell_type": "code",
   "execution_count": null,
   "metadata": {},
   "outputs": [],
   "source": [
    "# plot the series\n",
    "plt.figure(figsize=(10, 6))\n",
    "plt.plot(us_ck_raw.index, us_ck_raw[\"Revenue\"], label = \"Cookie Revenue\", color = \"blue\")\n",
    "plt.title(\"US Cookie Revenue - with Missing Values\")\n",
    "plt.xlabel(\"Date\")\n",
    "plt.ylabel(\"Revenue\")\n",
    "plt.grid(True)\n",
    "\n",
    "# save the plot\n",
    "# plt.savefig(\"chart1\", dpi = 300, bbox_inches = \"tight\")"
   ]
  },
  {
   "cell_type": "code",
   "execution_count": null,
   "metadata": {},
   "outputs": [],
   "source": [
    "# Function to interpolate missing values\n",
    "def na_interp(ts, freq=None, lambda_=None, use_linear=None):\n",
    "    # Ensure ts is a pandas Series\n",
    "    if not isinstance(ts, pd.Series):\n",
    "        raise ValueError(\"Input `ts` must be a pandas Series.\")\n",
    "\n",
    "    # Handle cases where there are no missing values\n",
    "    if ts.isna().sum() == 0:\n",
    "        return ts\n",
    "\n",
    "    # Frequency determination\n",
    "    if freq is None:\n",
    "        freq = pd.infer_freq(ts.index) or 1\n",
    "\n",
    "    # Automatic linear interpolation decision\n",
    "    if use_linear is None:\n",
    "        use_linear = freq <= 1 or ts.notna().sum() <= 2 * freq\n",
    "\n",
    "    # Apply Box-Cox transformation if lambda_ is provided\n",
    "    def boxcox_transform(series, lmbda):\n",
    "        if lmbda is None:\n",
    "            return series\n",
    "        if lmbda == 0:\n",
    "            return np.log(series)\n",
    "        return (series ** lmbda - 1) / lmbda\n",
    "\n",
    "    def inv_boxcox_transform(series, lmbda):\n",
    "        if lmbda is None:\n",
    "            return series\n",
    "        if lmbda == 0:\n",
    "            return np.exp(series)\n",
    "        return (series * lmbda + 1) ** (1 / lmbda)\n",
    "\n",
    "    ts_original = ts.copy()\n",
    "    ts = ts.astype(float)\n",
    "    if lambda_ is not None:\n",
    "        ts = boxcox_transform(ts, lambda_)\n",
    "\n",
    "    if use_linear:\n",
    "        # Linear interpolation\n",
    "        ts_interpolated = ts.interpolate(method='linear', limit_direction='both')\n",
    "    else:\n",
    "        # Seasonal interpolation\n",
    "        ts_filled = ts.interpolate(method='linear', limit_direction='both')  # Pre-fill gaps for STL\n",
    "        stl = STL(ts_filled, seasonal=freq, robust=True).fit()\n",
    "        \n",
    "        # Interpolate seasonally adjusted series\n",
    "        sa = stl.trend + stl.resid  # Seasonally adjusted component\n",
    "        \n",
    "        # Convert DatetimeIndex to numeric values for interpolation\n",
    "        idx_numeric = ts.index.astype(int) / 10**9  # Convert to seconds since epoch\n",
    "        sa_interp_func = interp1d(\n",
    "            idx_numeric[~ts.isna()], \n",
    "            sa[~ts.isna()], \n",
    "            bounds_error=False, \n",
    "            fill_value=\"extrapolate\"\n",
    "        )\n",
    "        sa_interp = sa_interp_func(idx_numeric)\n",
    "\n",
    "        # Add back the seasonal component\n",
    "        ts_interpolated = pd.Series(sa_interp + stl.seasonal, index=ts.index)\n",
    "\n",
    "    # Back-transform if Box-Cox was applied\n",
    "    if lambda_ is not None:\n",
    "        ts_interpolated = inv_boxcox_transform(ts_interpolated, lambda_)\n",
    "\n",
    "    # Check for stability (fallback to linear if unstable)\n",
    "    if not use_linear:\n",
    "        ts_range = ts_original.dropna().max() - ts_original.dropna().min()\n",
    "        if (ts_interpolated.max() > ts_original.max() + 0.5 * ts_range or \n",
    "            ts_interpolated.min() < ts_original.min() - 0.5 * ts_range):\n",
    "            return na_interp(ts_original, freq=freq, lambda_=lambda_, use_linear=True)\n",
    "\n",
    "    return ts_interpolated\n"
   ]
  },
  {
   "cell_type": "code",
   "execution_count": null,
   "metadata": {},
   "outputs": [],
   "source": [
    "# get the series with missing values and convert to float\n",
    "us_ck_missing = us_ck_raw[\"Revenue\"]\n",
    "us_ck_missing = np.array(us_ck_missing, dtype=float)\n",
    "\n",
    "# get the monthly date range, using first day of month\n",
    "date_range = pd.date_range(start=\"2019-01-01\", periods=60, freq=\"M\")  # Monthly frequency\n",
    "\n",
    "# Create a pandas Series\n",
    "ts = pd.Series(us_ck_missing, index=date_range)\n",
    "\n",
    "# Interpolating missing values\n",
    "ts_interpolated = na_interp(ts, freq=11)\n",
    "\n",
    "# Plot the results, with origin on top\n",
    "plt.figure(figsize=(10, 6))\n",
    "plt.plot(ts_interpolated, label=\"Interpolated\", color=\"red\", linestyle=\"--\")\n",
    "plt.plot(ts, label=\"Original\", color=\"blue\")\n",
    "plt.legend()\n",
    "plt.grid(True)\n",
    "plt.title(\"US Cookie Revenue - with Missing Values Interpolated\")\n",
    "plt.xlabel(\"Date\")\n",
    "plt.ylabel(\"Revenue\")\n",
    "\n",
    "# save the plot\n",
    "# plt.savefig(\"chart2\", dpi = 300, bbox_inches = \"tight\")"
   ]
  },
  {
   "cell_type": "code",
   "execution_count": null,
   "metadata": {},
   "outputs": [],
   "source": []
  }
 ],
 "metadata": {
  "kernelspec": {
   "display_name": ".venv",
   "language": "python",
   "name": "python3"
  },
  "language_info": {
   "codemirror_mode": {
    "name": "ipython",
    "version": 3
   },
   "file_extension": ".py",
   "mimetype": "text/x-python",
   "name": "python",
   "nbconvert_exporter": "python",
   "pygments_lexer": "ipython3",
   "version": "3.12.7"
  }
 },
 "nbformat": 4,
 "nbformat_minor": 2
}
