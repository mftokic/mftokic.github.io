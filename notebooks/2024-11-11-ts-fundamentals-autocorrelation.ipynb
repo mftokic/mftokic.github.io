{
 "cells": [
  {
   "cell_type": "markdown",
   "metadata": {},
   "source": [
    "### Python Code"
   ]
  },
  {
   "cell_type": "code",
   "execution_count": null,
   "metadata": {},
   "outputs": [],
   "source": [
    "# import libraries\n",
    "import pandas as pd\n",
    "from statsmodels.graphics.tsaplots import plot_acf, plot_pacf\n",
    "import matplotlib.pyplot as plt"
   ]
  },
  {
   "cell_type": "code",
   "execution_count": null,
   "metadata": {},
   "outputs": [],
   "source": [
    "# read data\n",
    "data_raw = pd.read_csv(\"../posts/2024-10-02-ts-fundamentals-whats-a-time-series/example_ts_data.csv\")\n",
    "\n",
    "data_raw = (\n",
    "    # select columns\n",
    "    data_raw[[\"Country\", \"Product\", \"Date\", \"Revenue\"]]\n",
    "    # change data types\n",
    "    .assign(\n",
    "        Date = pd.to_datetime(data_raw[\"Date\"]), \n",
    "        Revenue = pd.to_numeric(data_raw[\"Revenue\"])\n",
    "    )\n",
    ")\n",
    "\n",
    "# print the first few rows\n",
    "print(data_raw.head())"
   ]
  },
  {
   "cell_type": "code",
   "execution_count": null,
   "metadata": {},
   "outputs": [],
   "source": [
    "# filter on specific series\n",
    "us_ic_raw = data_raw[(data_raw[\"Country\"] == \"United States\") & (data_raw[\"Product\"] == \"Ice Cream\")]\n",
    "\n",
    "us_ic_raw.set_index(\"Date\", inplace=True)\n",
    "\n",
    "print(us_ic_raw.head())"
   ]
  },
  {
   "cell_type": "code",
   "execution_count": null,
   "metadata": {},
   "outputs": [],
   "source": [
    "# plot the series\n",
    "plt.figure(figsize=(10, 6))\n",
    "plt.plot(us_ic_raw.index, us_ic_raw[\"Revenue\"], label = \"Ice Cream Revenue\", color = \"blue\")\n",
    "plt.title(\"US Ice Cream Revenue\")\n",
    "plt.xlabel(\"Date\")\n",
    "plt.ylabel(\"Revenue\")\n",
    "plt.grid(True)\n",
    "\n",
    "# save the plot\n",
    "# plt.savefig(\"chart1\", dpi = 300, bbox_inches = \"tight\")"
   ]
  },
  {
   "cell_type": "code",
   "execution_count": null,
   "metadata": {},
   "outputs": [],
   "source": [
    "# plot the autocorrelation\n",
    "plt.figure(figsize=(10, 6))\n",
    "plot_acf(us_ic_raw[\"Revenue\"], lags=24, alpha=0.05)\n",
    "plt.title(\"Autocorrelation of US Ice Cream Revenue\")\n",
    "\n",
    "# save the plot\n",
    "# plt.savefig(\"chart2\", dpi = 300, bbox_inches = \"tight\")"
   ]
  },
  {
   "cell_type": "code",
   "execution_count": null,
   "metadata": {},
   "outputs": [],
   "source": [
    "# plot the partial autocorrelation\n",
    "plt.figure(figsize=(10, 6))\n",
    "plot_pacf(us_ic_raw[\"Revenue\"], lags=24, alpha=0.05)\n",
    "plt.title(\"Partial Autocorrelation of US Ice Cream Revenue\")\n",
    "\n",
    "# save the plot\n",
    "# plt.savefig(\"chart3\", dpi = 300, bbox_inches = \"tight\")"
   ]
  },
  {
   "cell_type": "code",
   "execution_count": null,
   "metadata": {},
   "outputs": [],
   "source": []
  }
 ],
 "metadata": {
  "kernelspec": {
   "display_name": ".venv",
   "language": "python",
   "name": "python3"
  },
  "language_info": {
   "codemirror_mode": {
    "name": "ipython",
    "version": 3
   },
   "file_extension": ".py",
   "mimetype": "text/x-python",
   "name": "python",
   "nbconvert_exporter": "python",
   "pygments_lexer": "ipython3",
   "version": "3.12.7"
  }
 },
 "nbformat": 4,
 "nbformat_minor": 2
}
