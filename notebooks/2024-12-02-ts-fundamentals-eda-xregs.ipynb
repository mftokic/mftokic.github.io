{
 "cells": [
  {
   "cell_type": "markdown",
   "metadata": {},
   "source": [
    "### Python Code"
   ]
  },
  {
   "cell_type": "code",
   "execution_count": null,
   "metadata": {},
   "outputs": [],
   "source": [
    "# import libraries\n",
    "import pandas as pd\n",
    "import numpy as np\n",
    "import matplotlib.pyplot as plt\n",
    "import random"
   ]
  },
  {
   "cell_type": "code",
   "execution_count": null,
   "metadata": {},
   "outputs": [],
   "source": [
    "# read data\n",
    "data_raw = pd.read_csv(\"../posts/2024-10-02-ts-fundamentals-whats-a-time-series/example_ts_data.csv\")\n",
    "\n",
    "data_raw = (\n",
    "    # select columns\n",
    "    data_raw[[\"Country\", \"Product\", \"Date\", \"Revenue\"]]\n",
    "    # change data types\n",
    "    .assign(\n",
    "        Date = pd.to_datetime(data_raw[\"Date\"]), \n",
    "        Revenue = pd.to_numeric(data_raw[\"Revenue\"])\n",
    "    )\n",
    ")\n",
    "\n",
    "# print the first few rows\n",
    "print(data_raw.head())"
   ]
  },
  {
   "cell_type": "code",
   "execution_count": null,
   "metadata": {},
   "outputs": [],
   "source": [
    "# filter on specific series\n",
    "us_ck_raw = data_raw[(data_raw[\"Country\"] == \"United States\") & (data_raw[\"Product\"] == \"Cookies\")]\n",
    "\n",
    "us_ck_raw.set_index(\"Date\", inplace=True)\n",
    "\n",
    "print(us_ck_raw.head())\n",
    "\n",
    "# plot the data\n",
    "plt.figure(figsize=(10, 6))\n",
    "plt.plot(us_ck_raw.index, us_ck_raw[\"Revenue\"], label=\"Cookies Revenue\")\n",
    "plt.xlabel(\"Date\")\n",
    "plt.ylabel(\"Revenue\")\n",
    "plt.title(\"Cookies Revenue in the United States\")\n",
    "plt.legend()\n",
    "\n",
    "# save the plot\n",
    "# plt.savefig(\"chart1\", dpi = 300, bbox_inches = \"tight\")"
   ]
  },
  {
   "cell_type": "code",
   "execution_count": null,
   "metadata": {},
   "outputs": [],
   "source": [
    "# Set a random seed for reproducibility\n",
    "random.seed(15)\n",
    "\n",
    "us_ck_corr = us_ck_raw.copy()\n",
    "\n",
    "# Generate a new variable with 0.8 correlation\n",
    "n = us_ck_corr.shape[0]\n",
    "correlation_target = 0.7\n",
    "noise = np.random.randn(n)  # Random noise\n",
    "scale_noise = np.sqrt(1 - correlation_target**2)  # Scale the noise\n",
    "\n",
    "us_ck_corr[\"xreg1\"] = (correlation_target * us_ck_corr[\"Revenue\"]) + (scale_noise * noise)\n",
    "\n",
    "# create a variable that has a weak correlation to the revenue column, create random values between 1 and 100\n",
    "us_ck_corr[\"xreg2\"] = random.sample(range(1, 100), us_ck_corr.shape[0])\n",
    "\n",
    "# print the first few rows, formatting numbers to 2 decimal places\n",
    "print(us_ck_corr.head(10).round(2))\n",
    "\n",
    "# plot the data with the new variables\n",
    "plt.figure(figsize=(10, 6))\n",
    "plt.plot(us_ck_corr.index, us_ck_corr[\"Revenue\"], label=\"Cookies Revenue\")\n",
    "plt.plot(us_ck_corr.index, us_ck_corr[\"xreg1\"], label=\"Strong Correlation\")\n",
    "plt.plot(us_ck_corr.index, us_ck_corr[\"xreg2\"], label=\"Weak Correlation\")\n",
    "plt.xlabel(\"Date\")\n",
    "plt.ylabel(\"Revenue\")\n",
    "plt.title(\"Cookies Revenue in the United States\")\n",
    "plt.legend()\n",
    "\n",
    "# save the plot\n",
    "# plt.savefig(\"chart2\", dpi = 300, bbox_inches = \"tight\")"
   ]
  },
  {
   "cell_type": "code",
   "execution_count": null,
   "metadata": {},
   "outputs": [],
   "source": [
    "us_ck_corr[\"Revenue\"].corr(us_ck_corr[\"xreg1\"])"
   ]
  },
  {
   "cell_type": "code",
   "execution_count": null,
   "metadata": {},
   "outputs": [],
   "source": [
    "# calculate the correlation between the target variable and the new variables, dropping the date, country, and product columns\n",
    "correlation = us_ck_corr.drop(columns=[\"Country\", \"Product\"]).corr()\n",
    "\n",
    "# create a simple table to display the correlation values\n",
    "correlation_table = correlation.stack().reset_index()\n",
    "correlation_table.columns = [\"Variable 1\", \"Variable 2\", \"Correlation\"]\n",
    "correlation_table = correlation_table[correlation_table[\"Variable 1\"] == \"Revenue\"]\n",
    "correlation_table = correlation_table[correlation_table[\"Variable 2\"] != \"Revenue\"]\n",
    "\n",
    "# print the correlation table, rounding the values to 2 decimal places\n",
    "print(correlation_table.round(2))\n",
    "\n",
    "# save the plot"
   ]
  },
  {
   "cell_type": "code",
   "execution_count": null,
   "metadata": {},
   "outputs": [],
   "source": [
    "data_raw"
   ]
  },
  {
   "cell_type": "code",
   "execution_count": null,
   "metadata": {},
   "outputs": [],
   "source": [
    "import numpy as np\n",
    "import pandas as pd\n",
    "\n",
    "# Create a random dataset\n",
    "np.random.seed(42)  # For reproducibility\n",
    "n = 100  # Number of samples\n",
    "data_raw = pd.DataFrame({\n",
    "    \"Original\": np.random.randn(n)  # Original variable\n",
    "})\n",
    "\n",
    "# Generate a new variable with a target correlation\n",
    "correlation_target = 0.8\n",
    "\n",
    "# Generate random noise\n",
    "noise = np.random.randn(n)\n",
    "\n",
    "# Orthogonalize noise to the original variable to ensure independence\n",
    "noise = noise - np.dot(noise, data_raw[\"Original\"]) / np.dot(data_raw[\"Original\"], data_raw[\"Original\"]) * data_raw[\"Original\"]\n",
    "\n",
    "# Scale the orthogonalized noise to match the desired correlation\n",
    "noise = noise / np.linalg.norm(noise) * np.sqrt(1 - correlation_target**2) * np.linalg.norm(data_raw[\"Original\"])\n",
    "\n",
    "# Create the new variable\n",
    "data_raw[\"New_Var\"] = correlation_target * data_raw[\"Original\"] + noise\n",
    "\n",
    "# Verify the correlation\n",
    "correlation = data_raw[\"Original\"].corr(data_raw[\"New_Var\"])\n",
    "print(f\"Correlation between Original and New_Var: {correlation:.4f}\")\n"
   ]
  },
  {
   "cell_type": "code",
   "execution_count": null,
   "metadata": {},
   "outputs": [],
   "source": []
  }
 ],
 "metadata": {
  "kernelspec": {
   "display_name": ".venv",
   "language": "python",
   "name": "python3"
  },
  "language_info": {
   "codemirror_mode": {
    "name": "ipython",
    "version": 3
   },
   "file_extension": ".py",
   "mimetype": "text/x-python",
   "name": "python",
   "nbconvert_exporter": "python",
   "pygments_lexer": "ipython3",
   "version": "3.12.7"
  }
 },
 "nbformat": 4,
 "nbformat_minor": 2
}
